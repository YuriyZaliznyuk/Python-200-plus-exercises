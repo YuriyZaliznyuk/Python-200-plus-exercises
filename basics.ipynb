{
  "nbformat": 4,
  "nbformat_minor": 0,
  "metadata": {
    "colab": {
      "name": "basics.ipynb",
      "provenance": [],
      "collapsed_sections": [],
      "authorship_tag": "ABX9TyMobpPtDqCHSQXXEP94QZxd",
      "include_colab_link": true
    },
    "kernelspec": {
      "name": "python3",
      "display_name": "Python 3"
    },
    "language_info": {
      "name": "python"
    }
  },
  "cells": [
    {
      "cell_type": "markdown",
      "metadata": {
        "id": "view-in-github",
        "colab_type": "text"
      },
      "source": [
        "<a href=\"https://colab.research.google.com/github/YuriyZaliznyuk/Python-200-plus-exercises/blob/main/basics.ipynb\" target=\"_parent\"><img src=\"https://colab.research.google.com/assets/colab-badge.svg\" alt=\"Open In Colab\"/></a>"
      ]
    },
    {
      "cell_type": "code",
      "execution_count": 2,
      "metadata": {
        "colab": {
          "base_uri": "https://localhost:8080/"
        },
        "id": "sgALOfqVfgXP",
        "outputId": "a7e7bfe8-8ea3-4769-eae2-969c2a87eca6"
      },
      "outputs": [
        {
          "output_type": "stream",
          "name": "stdout",
          "text": [
            "I an using Python version 3.8\n"
          ]
        }
      ],
      "source": [
        "p = 'Python'\n",
        "v = '3.8'\n",
        "print(f'I an using {p} version {v}')"
      ]
    },
    {
      "cell_type": "code",
      "source": [
        "pi = 3.1415926535\n",
        "print(f'Pi: {pi}')"
      ],
      "metadata": {
        "colab": {
          "base_uri": "https://localhost:8080/"
        },
        "id": "WUdJhdsJfkP1",
        "outputId": "18938ccc-f0fa-456e-91d8-6077d2cf6677"
      },
      "execution_count": 1,
      "outputs": [
        {
          "output_type": "stream",
          "name": "stdout",
          "text": [
            "Pi: 3.1315926535\n"
          ]
        }
      ]
    },
    {
      "cell_type": "code",
      "source": [
        ""
      ],
      "metadata": {
        "id": "JJ-Rbgl0-sK_"
      },
      "execution_count": null,
      "outputs": []
    }
  ]
}