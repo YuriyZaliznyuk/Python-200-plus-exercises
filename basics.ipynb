{
  "nbformat": 4,
  "nbformat_minor": 0,
  "metadata": {
    "colab": {
      "provenance": [],
      "collapsed_sections": [],
      "authorship_tag": "ABX9TyPKxB3EAqqgQwcIizRjBAXZ",
      "include_colab_link": true
    },
    "kernelspec": {
      "name": "python3",
      "display_name": "Python 3"
    },
    "language_info": {
      "name": "python"
    }
  },
  "cells": [
    {
      "cell_type": "markdown",
      "metadata": {
        "id": "view-in-github",
        "colab_type": "text"
      },
      "source": [
        "<a href=\"https://colab.research.google.com/github/YuriyZaliznyuk/Python-200-plus-exercises/blob/main/basics.ipynb\" target=\"_parent\"><img src=\"https://colab.research.google.com/assets/colab-badge.svg\" alt=\"Open In Colab\"/></a>"
      ]
    },
    {
      "cell_type": "code",
      "execution_count": null,
      "metadata": {
        "colab": {
          "base_uri": "https://localhost:8080/"
        },
        "id": "sgALOfqVfgXP",
        "outputId": "a7e7bfe8-8ea3-4769-eae2-969c2a87eca6"
      },
      "outputs": [
        {
          "output_type": "stream",
          "name": "stdout",
          "text": [
            "I an using Python version 3.8\n"
          ]
        }
      ],
      "source": [
        "p = 'Python'\n",
        "v = '3.8'\n",
        "print(f'I an using {p} version {v}')"
      ]
    },
    {
      "cell_type": "code",
      "source": [
        "pi = 3.1415926535\n",
        "print(f'Pi: {pi:.2f}')"
      ],
      "metadata": {
        "colab": {
          "base_uri": "https://localhost:8080/"
        },
        "id": "WUdJhdsJfkP1",
        "outputId": "aa19e9dc-c9b9-4e76-8e93-65ef31c89364"
      },
      "execution_count": null,
      "outputs": [
        {
          "output_type": "stream",
          "name": "stdout",
          "text": [
            "Pi: 3.14\n"
          ]
        }
      ]
    },
    {
      "cell_type": "code",
      "source": [
        "print('summer', 'time', 'holiday', sep='#')"
      ],
      "metadata": {
        "colab": {
          "base_uri": "https://localhost:8080/"
        },
        "id": "JJ-Rbgl0-sK_",
        "outputId": "a5bb869a-579a-4aa1-f558-a4a841bfd4e4"
      },
      "execution_count": null,
      "outputs": [
        {
          "output_type": "stream",
          "name": "stdout",
          "text": [
            "summer#time#holiday\n"
          ]
        }
      ]
    },
    {
      "cell_type": "code",
      "source": [
        "print('summer', 'time', 'holiday', sep='#')"
      ],
      "metadata": {
        "colab": {
          "base_uri": "https://localhost:8080/"
        },
        "id": "Z3s8ZUiHB9Da",
        "outputId": "9d927010-c602-4693-dede-0805f933c5d1"
      },
      "execution_count": null,
      "outputs": [
        {
          "output_type": "stream",
          "name": "stdout",
          "text": [
            "summer#time#holiday\n"
          ]
        }
      ]
    },
    {
      "cell_type": "code",
      "source": [
        "sum = 0\n",
        "for n in range(1, 11):\n",
        "  print(10 + 4*n)"
      ],
      "metadata": {
        "colab": {
          "base_uri": "https://localhost:8080/"
        },
        "id": "H15ln6WqCAu0",
        "outputId": "d0f12b73-02e3-4b31-86aa-17e1f7a02a97"
      },
      "execution_count": null,
      "outputs": [
        {
          "output_type": "stream",
          "name": "stdout",
          "text": [
            "14\n",
            "18\n",
            "22\n",
            "26\n",
            "30\n",
            "34\n",
            "38\n",
            "42\n",
            "46\n",
            "50\n"
          ]
        }
      ]
    },
    {
      "cell_type": "code",
      "source": [
        "a = 1\n",
        "b = 5\n",
        "c = 4\n",
        "s = -b/a\n",
        "p = c/a\n",
        "print('x1 + x2 =', s)\n",
        "print('x1x2 =', p)"
      ],
      "metadata": {
        "colab": {
          "base_uri": "https://localhost:8080/"
        },
        "id": "GO0N1XpNFlqp",
        "outputId": "73dc798d-17c5-4001-e5c7-cd0371045f5c"
      },
      "execution_count": null,
      "outputs": [
        {
          "output_type": "stream",
          "name": "stdout",
          "text": [
            "x1 + x2 = -5.0\n",
            "x1x2 = 4.0\n"
          ]
        }
      ]
    },
    {
      "cell_type": "code",
      "source": [
        "print(f'The middle point: ({(2 - 4)/2}, {(4 + 6)/2})')"
      ],
      "metadata": {
        "colab": {
          "base_uri": "https://localhost:8080/"
        },
        "id": "LOc79o0UE_9H",
        "outputId": "55bddf8e-c60f-498a-bb1a-6887535c4697"
      },
      "execution_count": null,
      "outputs": [
        {
          "output_type": "stream",
          "name": "stdout",
          "text": [
            "The middle point: (-1.0, 5.0)\n"
          ]
        }
      ]
    },
    {
      "cell_type": "code",
      "source": [
        "from math import sqrt\n",
        "\n",
        "x1 = 3\n",
        "y1 = 2\n",
        "x2 = -1\n",
        "y2 = -1\n",
        "d = sqrt((x1 - x2)**2 + (y1 - y2)**2)\n",
        "print(f'The distance between A and B: {d}')"
      ],
      "metadata": {
        "colab": {
          "base_uri": "https://localhost:8080/"
        },
        "id": "mN_bNGpnFtVy",
        "outputId": "d60ad24a-d897-4930-d939-afdab9fb589c"
      },
      "execution_count": null,
      "outputs": [
        {
          "output_type": "stream",
          "name": "stdout",
          "text": [
            "The distance between A and B: 5.0\n"
          ]
        }
      ]
    },
    {
      "cell_type": "code",
      "source": [
        "a = 1\n",
        "b = 5\n",
        "c = 4\n",
        "x1 = (-b - (b**2 - 4*a*c)**(1/2))/(2*a)\n",
        "x2 = (-b + (b**2 - 4*a*c)**(1/2))/(2*a)\n",
        "print(f'x1 = {x1}')\n",
        "print(f'x2 = {x2}')"
      ],
      "metadata": {
        "colab": {
          "base_uri": "https://localhost:8080/"
        },
        "id": "N0bScyQnG8Qo",
        "outputId": "8a537144-d10f-49fc-f735-8e068fbffbc9"
      },
      "execution_count": null,
      "outputs": [
        {
          "output_type": "stream",
          "name": "stdout",
          "text": [
            "x1 = -4.0\n",
            "x2 = -1.0\n"
          ]
        }
      ]
    },
    {
      "cell_type": "code",
      "source": [
        "a, b, c = 10, 11, 9\n",
        "m = (a + b + c)/3\n",
        "d = (((a - m)**2 + (b - m)**2 + (c - m)**2)/3)**(1/2)\n",
        "print(f'The standard deviation: {d:.2f}')"
      ],
      "metadata": {
        "colab": {
          "base_uri": "https://localhost:8080/"
        },
        "id": "lq4pZIpOKOuy",
        "outputId": "41aaab51-9fa1-4922-9e76-f60bf65135f0"
      },
      "execution_count": null,
      "outputs": [
        {
          "output_type": "stream",
          "name": "stdout",
          "text": [
            "The standard deviation: 0.82\n"
          ]
        }
      ]
    },
    {
      "cell_type": "code",
      "source": [
        "filename = 'view.jpg'\n",
        "print(filename[-3:])"
      ],
      "metadata": {
        "colab": {
          "base_uri": "https://localhost:8080/"
        },
        "id": "HAguzhQELvg3",
        "outputId": "b9dfcb79-dbea-4c13-9ce3-d607c7281826"
      },
      "execution_count": null,
      "outputs": [
        {
          "output_type": "stream",
          "name": "stdout",
          "text": [
            "jpg\n"
          ]
        }
      ]
    },
    {
      "cell_type": "code",
      "source": [
        "string = 'PKV-89415-PLN'\n",
        "print(string[:3] + string[-3:])"
      ],
      "metadata": {
        "colab": {
          "base_uri": "https://localhost:8080/"
        },
        "id": "QVRXgjjcNjW2",
        "outputId": "c7c80eb6-f956-45ff-c3e6-f02ae5b29132"
      },
      "execution_count": null,
      "outputs": [
        {
          "output_type": "stream",
          "name": "stdout",
          "text": [
            "PKVPLN\n"
          ]
        }
      ]
    },
    {
      "cell_type": "code",
      "source": [
        "var1 = ''\n",
        "var2 = ' '\n",
        "var3 = '\\n'\n",
        " \n",
        "print(type(var1))\n",
        "print(type(var2))\n",
        "print(type(var3))"
      ],
      "metadata": {
        "colab": {
          "base_uri": "https://localhost:8080/"
        },
        "id": "yFA73nzpUqmm",
        "outputId": "cbe457d7-014f-4997-a3b0-a41269630ca8"
      },
      "execution_count": null,
      "outputs": [
        {
          "output_type": "stream",
          "name": "stdout",
          "text": [
            "<class 'str'>\n",
            "<class 'str'>\n",
            "<class 'str'>\n"
          ]
        }
      ]
    },
    {
      "cell_type": "code",
      "source": [
        "var1 = None\n",
        "var2 = False\n",
        "var3 = 'True'\n",
        "print(type(var1))\n",
        "print(type(var2))\n",
        "print(type(var3))"
      ],
      "metadata": {
        "colab": {
          "base_uri": "https://localhost:8080/"
        },
        "id": "6XI6f15HUrj8",
        "outputId": "7afda779-2abd-49eb-e8d8-758a4f62367e"
      },
      "execution_count": null,
      "outputs": [
        {
          "output_type": "stream",
          "name": "stdout",
          "text": [
            "<class 'NoneType'>\n",
            "<class 'bool'>\n",
            "<class 'str'>\n"
          ]
        }
      ]
    },
    {
      "cell_type": "code",
      "source": [
        "code1 = 'FVNISJND-20'\n",
        "code2 = 'FVNISJND20'\n",
        "code1.al"
      ],
      "metadata": {
        "id": "LWIxYfgNjvY2"
      },
      "execution_count": null,
      "outputs": []
    },
    {
      "cell_type": "code",
      "source": [
        "text = '  Google Colab   '\n",
        "print(text.strip())"
      ],
      "metadata": {
        "colab": {
          "base_uri": "https://localhost:8080/"
        },
        "id": "cKvDUPu_UB10",
        "outputId": "847a38da-963a-40b2-d9f2-dd40b695528f"
      },
      "execution_count": null,
      "outputs": [
        {
          "output_type": "stream",
          "name": "stdout",
          "text": [
            "Google Colab\n"
          ]
        }
      ]
    },
    {
      "cell_type": "code",
      "source": [
        "string = \"analytics vidhya is the Largest data science Community\"\n",
        "print(string.title())"
      ],
      "metadata": {
        "colab": {
          "base_uri": "https://localhost:8080/"
        },
        "id": "oE8259N1UCky",
        "outputId": "ea8ad6be-71db-4bc6-bea8-cd1ce190da01"
      },
      "execution_count": null,
      "outputs": [
        {
          "output_type": "stream",
          "name": "stdout",
          "text": [
            "Analytics Vidhya Is The Largest Data Science Community\n"
          ]
        }
      ]
    },
    {
      "cell_type": "code",
      "source": [
        "myDict = {\"name\": \"Analytics Vidhya\", \"country\": \"India\", \"Technology\": \"Data Science\"}\n",
        "mySeparator = \"TEST\"\n",
        "x = mySeparator.join(myDict)\n",
        "print(x)\n"
      ],
      "metadata": {
        "colab": {
          "base_uri": "https://localhost:8080/"
        },
        "id": "8prnRlZZVqRh",
        "outputId": "88ed40b5-9bec-447f-91f6-d624ef05f7e3"
      },
      "execution_count": null,
      "outputs": [
        {
          "output_type": "stream",
          "name": "stdout",
          "text": [
            "nameTESTcountryTESTTechnology\n"
          ]
        }
      ]
    },
    {
      "cell_type": "code",
      "source": [
        "url = 'https://e-smartdata.teachable.com/p/sciezka-data-scientist-machine-learning-engineer'\n",
        "print((url.split('/')[-1]).replace('-', ' '))"
      ],
      "metadata": {
        "colab": {
          "base_uri": "https://localhost:8080/"
        },
        "id": "U9YzOlZ8WVNB",
        "outputId": "f6f2ecd0-99e4-4bf4-c923-5ace34b10b58"
      },
      "execution_count": null,
      "outputs": [
        {
          "output_type": "stream",
          "name": "stdout",
          "text": [
            "sciezka data scientist machine learning engineer\n"
          ]
        }
      ]
    },
    {
      "cell_type": "code",
      "source": [
        "text = 'Programming in python.'\n",
        "vowels = {'a', 'e', 'i', 'o', 'u'}\n",
        "\n",
        "a = text.lower()\n",
        "b = a.replace(' ', '').replace('.', '')\n",
        "letters = set(b)\n",
        "letters = letters.difference(vowels)\n",
        "print(f'Number of items: {len(letters)}')"
      ],
      "metadata": {
        "colab": {
          "base_uri": "https://localhost:8080/"
        },
        "id": "eJvWXOGfYvMP",
        "outputId": "83ed8d15-0c57-49b1-df7a-9a29b57e72f8"
      },
      "execution_count": null,
      "outputs": [
        {
          "output_type": "stream",
          "name": "stdout",
          "text": [
            "Number of items: 8\n"
          ]
        }
      ]
    },
    {
      "cell_type": "code",
      "source": [
        "A = {2, 4, 6, 8}\n",
        "B = {4, 10}\n",
        "print(f'Symetric difference: {A.symmetric_difference(B)}')"
      ],
      "metadata": {
        "colab": {
          "base_uri": "https://localhost:8080/"
        },
        "id": "Otywr90SmwCH",
        "outputId": "4cbfd764-e98c-4d3b-bef9-369a7027f812"
      },
      "execution_count": null,
      "outputs": [
        {
          "output_type": "stream",
          "name": "stdout",
          "text": [
            "Symetric difference: {2, 6, 8, 10}\n"
          ]
        }
      ]
    },
    {
      "cell_type": "code",
      "source": [
        "dji1 = ('AAPL.US', 'IBM.US', 'MSFT.US')\n",
        "dji2 = ('HD.US', 'GS.US', 'NKE.US')\n",
        "\n",
        "t = dji1 + dji2\n",
        "t"
      ],
      "metadata": {
        "colab": {
          "base_uri": "https://localhost:8080/"
        },
        "id": "cmUZGDWCtRQg",
        "outputId": "693c460b-7bca-4e1d-9917-d52a57eae3fc"
      },
      "execution_count": null,
      "outputs": [
        {
          "output_type": "execute_result",
          "data": {
            "text/plain": [
              "('AAPL.US', 'IBM.US', 'MSFT.US', 'HD.US', 'GS.US', 'NKE.US')"
            ]
          },
          "metadata": {},
          "execution_count": 21
        }
      ]
    },
    {
      "cell_type": "code",
      "source": [
        "info = (('Monica', 19), ('Tom', 21), ('John', 18))\n",
        "asc = tuple(sorted(info, key=lambda item: item[1]))\n",
        "desc = tuple(sorted(info, key=lambda item: item[1], reverse=True))\n",
        "print(f'Ascending: {asc}')\n",
        "print(f'Descending: {desc}')"
      ],
      "metadata": {
        "colab": {
          "base_uri": "https://localhost:8080/"
        },
        "id": "BhdKdowWtyhO",
        "outputId": "1bfed5e2-ff0c-436a-db60-cfa845f4104c"
      },
      "execution_count": null,
      "outputs": [
        {
          "output_type": "stream",
          "name": "stdout",
          "text": [
            "Ascending: (('John', 18), ('Monica', 19), ('Tom', 21))\n",
            "Descending: (('Tom', 21), ('Monica', 19), ('John', 18))\n"
          ]
        }
      ]
    },
    {
      "cell_type": "code",
      "source": [
        "cities = ['Los Angeles', 'New York', 'Chicago']\n",
        "cities.append('Houston')\n",
        "cities"
      ],
      "metadata": {
        "colab": {
          "base_uri": "https://localhost:8080/"
        },
        "id": "DcmdNsei4iNU",
        "outputId": "903006c3-660e-423c-a7ff-b18ff7e5e4ea"
      },
      "execution_count": null,
      "outputs": [
        {
          "output_type": "execute_result",
          "data": {
            "text/plain": [
              "['Los Angeles', 'New York', 'Chicago', 'Houston']"
            ]
          },
          "metadata": {},
          "execution_count": 1
        }
      ]
    },
    {
      "cell_type": "code",
      "source": [
        "text = 'Python programming'\n",
        "a = text.lower()\n",
        "l = list(a)\n",
        "l.remove(' ')\n",
        "s = set(l)\n",
        "l = sorted(set(s))\n",
        "print(l)"
      ],
      "metadata": {
        "colab": {
          "base_uri": "https://localhost:8080/"
        },
        "id": "kOU6KzUt5idY",
        "outputId": "d3b22cb2-f874-4fd3-8812-5bdbe836c537"
      },
      "execution_count": null,
      "outputs": [
        {
          "output_type": "execute_result",
          "data": {
            "text/plain": [
              "['a', 'g', 'h', 'i', 'm', 'n', 'o', 'p', 'r', 't', 'y']"
            ]
          },
          "metadata": {},
          "execution_count": 8
        }
      ]
    },
    {
      "cell_type": "code",
      "source": [
        "filenames = ['view.jpg', 'bear.jpg', 'ball.png']\n",
        "filenames.insert(0, 'phone.jpg')\n",
        "filenames.remove('ball.png')\n",
        "print(filenames)"
      ],
      "metadata": {
        "colab": {
          "base_uri": "https://localhost:8080/"
        },
        "id": "TmY4h_ew5kFx",
        "outputId": "8ba1baf0-1000-434d-dfeb-437242de572c"
      },
      "execution_count": null,
      "outputs": [
        {
          "output_type": "stream",
          "name": "stdout",
          "text": [
            "['phone.jpg', 'view.jpg', 'bear.jpg']\n"
          ]
        }
      ]
    },
    {
      "cell_type": "code",
      "source": [
        "day1 = ['3984', '9042', '4829', '2380']\n",
        "day2 = ['4231', '5234', '1345', '2455']\n",
        "day1.extend(day2)\n",
        "print(day1)"
      ],
      "metadata": {
        "colab": {
          "base_uri": "https://localhost:8080/"
        },
        "id": "Ep6aZOWL7eRH",
        "outputId": "a3875bcc-96ac-4dcc-f900-e408e35ceb21"
      },
      "execution_count": null,
      "outputs": [
        {
          "output_type": "stream",
          "name": "stdout",
          "text": [
            "['3984', '9042', '4829', '2380', '4231', '5234', '1345', '2455']\n"
          ]
        }
      ]
    },
    {
      "cell_type": "code",
      "source": [
        "hashtags = ['summer', 'time', 'vibes']\n",
        "hashtags.append('#')\n",
        "s = str(hashtags)\n",
        "s"
      ],
      "metadata": {
        "colab": {
          "base_uri": "https://localhost:8080/",
          "height": 35
        },
        "id": "pLpNJxsVCeSC",
        "outputId": "259bc950-c43e-4b1a-9bf0-f8ccc4380a0b"
      },
      "execution_count": null,
      "outputs": [
        {
          "output_type": "execute_result",
          "data": {
            "text/plain": [
              "\"['summer', 'time', 'vibes', '#']\""
            ],
            "application/vnd.google.colaboratory.intrinsic+json": {
              "type": "string"
            }
          },
          "metadata": {},
          "execution_count": 13
        }
      ]
    },
    {
      "cell_type": "code",
      "source": [
        "T = (10, 20, 30, 40, 50, 40)\n",
        "for z in T:\n",
        "  print(z)"
      ],
      "metadata": {
        "id": "1lcaowXtCx3_",
        "colab": {
          "base_uri": "https://localhost:8080/"
        },
        "outputId": "bb5039b1-4c49-410c-8862-0ab1392e1e85"
      },
      "execution_count": null,
      "outputs": [
        {
          "output_type": "stream",
          "name": "stdout",
          "text": [
            "10\n",
            "20\n",
            "30\n",
            "40\n",
            "50\n",
            "40\n"
          ]
        }
      ]
    },
    {
      "cell_type": "code",
      "source": [
        "capitals = {\n",
        "    'USA': 'Washington',\n",
        "    'Germany': 'Berlin',\n",
        "    'Austria': 'Vienna'\n",
        "}\n",
        "print(capitals.keys())"
      ],
      "metadata": {
        "colab": {
          "base_uri": "https://localhost:8080/"
        },
        "id": "2bSSVoF6fMI3",
        "outputId": "21578d93-ec0d-4bb4-894d-50078e619201"
      },
      "execution_count": null,
      "outputs": [
        {
          "output_type": "stream",
          "name": "stdout",
          "text": [
            "dict_keys(['USA', 'Germany', 'Austria'])\n"
          ]
        }
      ]
    },
    {
      "cell_type": "code",
      "source": [
        "stocks = {\n",
        "    'MSFT.US': {'Microsoft Corp': 184},\n",
        "    'AAPL.US': {'Apple Inc': 310},\n",
        "    'MMM.US': {'3M Co': 148}\n",
        "}\n",
        "stocks['MSFT.US']['Microsoft Corp'] = 190\n",
        "print(stocks['MSFT.US']['Microsoft Corp'])"
      ],
      "metadata": {
        "colab": {
          "base_uri": "https://localhost:8080/"
        },
        "id": "z_WeCli6CTOe",
        "outputId": "ad9c082c-a008-4393-a66f-c96cc46cdfce"
      },
      "execution_count": null,
      "outputs": [
        {
          "output_type": "stream",
          "name": "stdout",
          "text": [
            "190\n"
          ]
        }
      ]
    },
    {
      "cell_type": "code",
      "source": [
        "stocks = {\n",
        "    'MSFT.US': {'Microsoft Corp': 184},\n",
        "    'AAPL.US': {'Apple Inc': 310},\n",
        "    'MMM.US': {'3M Co': 148}\n",
        "}\n",
        "stocks['V.US'] = {'Visa Inc': 185}\n",
        "print(stocks.values())"
      ],
      "metadata": {
        "colab": {
          "base_uri": "https://localhost:8080/"
        },
        "id": "Fz5UqBtCCxqc",
        "outputId": "d1c4dee4-641a-430e-add7-cdbc194e8d80"
      },
      "execution_count": null,
      "outputs": [
        {
          "output_type": "stream",
          "name": "stdout",
          "text": [
            "dict_values([{'Microsoft Corp': 184}, {'Apple Inc': 310}, {'3M Co': 148}, {'Visa Inc': 185}])\n"
          ]
        }
      ]
    },
    {
      "cell_type": "code",
      "source": [
        "tickers = [\n",
        "    'AAPL.US', 'AXP.US', 'BA.US', 'CAT.US',\n",
        "    'CSCO.US', 'CVX.US', 'DIS.US', 'DOW.US',\n",
        "    'GS.US', 'HD.US', 'IBM.US', 'INTC.US'\n",
        "]\n",
        "print(enumerate(tickers))"
      ],
      "metadata": {
        "colab": {
          "base_uri": "https://localhost:8080/"
        },
        "id": "wP-5yHcEEZKG",
        "outputId": "aca5e535-d230-49f3-b5ef-1fc680274a4e"
      },
      "execution_count": null,
      "outputs": [
        {
          "output_type": "stream",
          "name": "stdout",
          "text": [
            "<enumerate object at 0x7f2f778c57d0>\n"
          ]
        }
      ]
    },
    {
      "cell_type": "code",
      "source": [
        "project_ids = {\n",
        "    '01': 'open', \n",
        "    '03': 'in progress',\n",
        "    '05': 'in progress',\n",
        "    '04': 'completed'\n",
        "}\n",
        "print(list(set(project_ids.values())))"
      ],
      "metadata": {
        "colab": {
          "base_uri": "https://localhost:8080/"
        },
        "id": "2mT30ym_Eg3c",
        "outputId": "f3680d00-f528-4d68-8f28-3091bbf9c9d4"
      },
      "execution_count": null,
      "outputs": [
        {
          "output_type": "stream",
          "name": "stdout",
          "text": [
            "None\n"
          ]
        }
      ]
    },
    {
      "cell_type": "code",
      "source": [
        "users = {'001': 'Mark', '002': 'Monica', '003': 'Jacob'}\n",
        "users.get('004', 'indefinite')"
      ],
      "metadata": {
        "colab": {
          "base_uri": "https://localhost:8080/",
          "height": 35
        },
        "id": "W0vCiO9HaJxg",
        "outputId": "1c14ec4d-1992-4e93-85e9-2976012f62c3"
      },
      "execution_count": null,
      "outputs": [
        {
          "output_type": "execute_result",
          "data": {
            "text/plain": [
              "'indefinite'"
            ],
            "application/vnd.google.colaboratory.intrinsic+json": {
              "type": "string"
            }
          },
          "metadata": {},
          "execution_count": 12
        }
      ]
    },
    {
      "cell_type": "code",
      "source": [
        "number = 1.0\n",
        "if number.is_integer():\n",
        "    print('YES')\n",
        "else:\n",
        "    print('NO')"
      ],
      "metadata": {
        "colab": {
          "base_uri": "https://localhost:8080/"
        },
        "id": "g-4_9tQ-etvP",
        "outputId": "1c01878a-b087-47c0-ed30-c005c9b3bffd"
      },
      "execution_count": null,
      "outputs": [
        {
          "output_type": "stream",
          "name": "stdout",
          "text": [
            "YES\n"
          ]
        }
      ]
    },
    {
      "cell_type": "code",
      "source": [
        "project_ids = ['02134', '24253']\n",
        "project_id = '02135'\n",
        "if not project_id in project_ids:\n",
        "  project_ids.append(project_id)\n",
        "print(project_ids) "
      ],
      "metadata": {
        "colab": {
          "base_uri": "https://localhost:8080/"
        },
        "id": "GsqNG23BgK9E",
        "outputId": "bfb20477-25d3-4770-acc4-5cc9985fd51a"
      },
      "execution_count": null,
      "outputs": [
        {
          "output_type": "stream",
          "name": "stdout",
          "text": [
            "['02134', '24253', '02135']\n"
          ]
        }
      ]
    },
    {
      "cell_type": "code",
      "source": [
        "item = '001'\n",
        "items = ['001', '000', '003', '005', '006']\n",
        "\n",
        " \n",
        "if item in items:\n",
        "    items.remove('001')\n",
        "    \n",
        "print(items)"
      ],
      "metadata": {
        "colab": {
          "base_uri": "https://localhost:8080/"
        },
        "id": "akgCuI6AoIr6",
        "outputId": "b6514fe3-901e-4980-832f-4717517a44d3"
      },
      "execution_count": null,
      "outputs": [
        {
          "output_type": "stream",
          "name": "stdout",
          "text": [
            "['000', '003', '005', '006']\n"
          ]
        }
      ]
    },
    {
      "cell_type": "code",
      "source": [
        "s = ''\n",
        "for i in range(10, 100):\n",
        "    if i % 11 == 0:\n",
        "        s = s + str(i) + ','\n",
        "print(s[:-1])        "
      ],
      "metadata": {
        "colab": {
          "base_uri": "https://localhost:8080/"
        },
        "id": "1fcCp_Vmo9Pp",
        "outputId": "73d94840-1ff8-425c-c690-e5d4dc5f3b00"
      },
      "execution_count": null,
      "outputs": [
        {
          "output_type": "stream",
          "name": "stdout",
          "text": [
            "11,22,33,44,55,66,77,88,99\n"
          ]
        }
      ]
    },
    {
      "cell_type": "code",
      "source": [
        "text = 'Python is a very popular programming language'\n",
        "t = text.lower().split()\n",
        "t = t[:4]\n",
        "print(t)"
      ],
      "metadata": {
        "colab": {
          "base_uri": "https://localhost:8080/"
        },
        "id": "dlH9Q9v4W3Mg",
        "outputId": "33b85234-2793-4422-80f9-91f82e08006d"
      },
      "execution_count": null,
      "outputs": [
        {
          "output_type": "stream",
          "name": "stdout",
          "text": [
            "['python', 'is', 'a', 'very']\n"
          ]
        }
      ]
    },
    {
      "cell_type": "code",
      "source": [
        "probabilities = [0.21, 0.91, 0.34, 0.55, 0.76, 0.02]\n",
        "r = []\n",
        "for x in probabilities:\n",
        "    if x > 0.5:\n",
        "        r.append(x)\n",
        "print(r)"
      ],
      "metadata": {
        "colab": {
          "base_uri": "https://localhost:8080/"
        },
        "id": "dS6UykOIW4YE",
        "outputId": "613fa20b-5054-4306-f246-96c899e75016"
      },
      "execution_count": null,
      "outputs": [
        {
          "output_type": "stream",
          "name": "stdout",
          "text": [
            "[0.91, 0.55, 0.76]\n"
          ]
        }
      ]
    },
    {
      "cell_type": "code",
      "source": [
        "items = ['x', 'y', 'z', 'y', 'x', 'y', 'y', 'z', 'x']\n",
        "r = {}\n",
        "for x in items:\n",
        "    if x in r:\n",
        "        r[x] += 1\n",
        "    else:\n",
        "        r[x] = 1\n",
        "print(r)"
      ],
      "metadata": {
        "colab": {
          "base_uri": "https://localhost:8080/"
        },
        "id": "gWlC7tqWasUz",
        "outputId": "4b3293ec-c055-474a-dfc5-075ce6dcaf27"
      },
      "execution_count": null,
      "outputs": [
        {
          "output_type": "stream",
          "name": "stdout",
          "text": [
            "{'x': 3, 'y': 4, 'z': 2}\n"
          ]
        }
      ]
    },
    {
      "cell_type": "code",
      "source": [
        "text = \"\"\"Python is powerful... and fast\n",
        "plays well with others\n",
        "runs everywhere\n",
        "is friendly & easy to learn\n",
        "is Open\n",
        "These are some of the reasons people who use \n",
        "Python would rather not use anything else\"\"\"\n",
        "\n",
        "t = text.lower().split()\n",
        "t = [word.replace('.', '').replace(',', '') for word in t]\n",
        "t = [word for word in t if len(word) > 6]\n",
        "print(t)"
      ],
      "metadata": {
        "colab": {
          "base_uri": "https://localhost:8080/"
        },
        "id": "UaDz1WjTbJO0",
        "outputId": "ed4e8964-6b01-4d89-c5d2-6925aeab43aa"
      },
      "execution_count": null,
      "outputs": [
        {
          "output_type": "stream",
          "name": "stdout",
          "text": [
            "['powerful', 'everywhere', 'friendly', 'reasons', 'anything']\n"
          ]
        }
      ]
    },
    {
      "cell_type": "code",
      "source": [
        "indexes = [\n",
        "    'BOVESPA', 'DOW JONES COMP', 'DOW JONES INDU',\n",
        "    'DOW JONES TRANS', 'DOW JONES UTIL', 'IPC',\n",
        "    'IPSA', 'MERVAL', 'NASDAQ COMP', 'NASDAQ100',\n",
        "    'S&P500', 'S&P/TSX COMP'\n",
        "]\n",
        "r = []\n",
        "for x in indexes:\n",
        "    if x.count('DOW') > 0 or x.count('S&P') > 0:\n",
        "        r.append(x)\n",
        "print(r)    "
      ],
      "metadata": {
        "colab": {
          "base_uri": "https://localhost:8080/"
        },
        "id": "K4jCjY-5bN0i",
        "outputId": "a83884aa-04e8-4b50-c7c6-bdd8a6ed12ab"
      },
      "execution_count": null,
      "outputs": [
        {
          "output_type": "stream",
          "name": "stdout",
          "text": [
            "['DOW JONES COMP', 'DOW JONES INDU', 'DOW JONES TRANS', 'DOW JONES UTIL', 'S&P500', 'S&P/TSX COMP']\n"
          ]
        }
      ]
    },
    {
      "cell_type": "code",
      "source": [
        "c = 0\n",
        "x = 2\n",
        "while c < 10:\n",
        "  for i in range(2, int(x/2)):\n",
        "    if x % i == 0:\n",
        "      c += 1\n",
        "      print(x)\n",
        "      break\n",
        "  x += 1     "
      ],
      "metadata": {
        "colab": {
          "base_uri": "https://localhost:8080/"
        },
        "id": "08iIJNRJwe7S",
        "outputId": "fd02c2d5-dd63-4462-a55e-3a89dcc34170"
      },
      "execution_count": null,
      "outputs": [
        {
          "output_type": "stream",
          "name": "stdout",
          "text": [
            "6\n",
            "8\n",
            "9\n",
            "10\n",
            "12\n",
            "14\n",
            "15\n",
            "16\n",
            "18\n",
            "20\n"
          ]
        }
      ]
    },
    {
      "cell_type": "code",
      "source": [
        "counter = 0\n",
        "number = 2\n",
        "prime = []\n",
        " \n",
        "while counter < 10:\n",
        "    for i in range(2, number):\n",
        "        if number % i == 0:\n",
        "            break\n",
        "    else:\n",
        "        prime.append(str(number))\n",
        "        counter += 1\n",
        "    number += 1\n",
        " \n",
        "print(','.join(prime))"
      ],
      "metadata": {
        "colab": {
          "base_uri": "https://localhost:8080/"
        },
        "id": "P69Ip1kFyGBB",
        "outputId": "dd4e01dc-af45-41d5-9b5f-3cf87233d023"
      },
      "execution_count": null,
      "outputs": [
        {
          "output_type": "stream",
          "name": "stdout",
          "text": [
            "2,3,5,7,11,13,17,19,23,29\n"
          ]
        }
      ]
    },
    {
      "cell_type": "code",
      "source": [
        "for x in range(3):\n",
        "    print(x)\n",
        "else:\n",
        "    print('Final x = %d' % (x))"
      ],
      "metadata": {
        "colab": {
          "base_uri": "https://localhost:8080/"
        },
        "id": "zY_3IRxHzYqb",
        "outputId": "944a942b-5d38-4b51-eacc-d5e39c8d3193"
      },
      "execution_count": null,
      "outputs": [
        {
          "output_type": "stream",
          "name": "stdout",
          "text": [
            "0\n",
            "1\n",
            "2\n",
            "Final x = 2\n"
          ]
        }
      ]
    },
    {
      "cell_type": "code",
      "source": [
        "pv = 1000\n",
        "r = 0.04\n",
        "cur = pv\n",
        "y = 0\n",
        "\n",
        "while cur < pv*2:\n",
        "  cur *= 1 + r\n",
        "  y += 1\n",
        "\n",
        "print(f'Future value: {cur:.2f} USD. Number of periods: {y:.0f} years')  "
      ],
      "metadata": {
        "colab": {
          "base_uri": "https://localhost:8080/"
        },
        "id": "mfQF_ppZz2QX",
        "outputId": "f6c436f7-d5b6-4021-e577-9fed26c8b14f"
      },
      "execution_count": null,
      "outputs": [
        {
          "output_type": "stream",
          "name": "stdout",
          "text": [
            "Future value: 2025.82 USD. Number of periods: 18 years\n"
          ]
        }
      ]
    },
    {
      "cell_type": "code",
      "source": [
        "max_iters = 10000\n",
        "iters = 0\n",
        "w_0 = -1\n",
        "previous_step_size = 1\n",
        "learning_rate = 0.01\n",
        "precision = 0.000001\n",
        "derivative = lambda w: 2 * w - 4\n",
        "\n",
        "while previous_step_size > precision and iters < max_iters:\n",
        "    w_prev = w_0\n",
        "    w_0 = w_prev - learning_rate * derivative(w_prev)\n",
        "    previous_step_size = abs(w_0 - w_prev)\n",
        "    #print(w_0, w_prev, previous_step_size)\n",
        "    iters += 1\n",
        " \n",
        "print(f'A local minimum in point: {w_0:.2f}')\n"
      ],
      "metadata": {
        "colab": {
          "base_uri": "https://localhost:8080/"
        },
        "id": "d1-vzg1m1dgw",
        "outputId": "9e94f246-a2e7-4b08-a426-403c46529de5"
      },
      "execution_count": null,
      "outputs": [
        {
          "output_type": "stream",
          "name": "stdout",
          "text": [
            "A local minimum in point: 2.00\n"
          ]
        }
      ]
    },
    {
      "cell_type": "code",
      "source": [
        "sum = 3000\n",
        "counter = 0\n",
        "try:\n",
        "  sum/counter\n",
        "except ZeroDivisionError:\n",
        "  print('Division by zero.')\n"
      ],
      "metadata": {
        "colab": {
          "base_uri": "https://localhost:8080/"
        },
        "id": "QAOkaettNwOY",
        "outputId": "734f9131-a406-40ed-85da-a6054a7036bd"
      },
      "execution_count": null,
      "outputs": [
        {
          "output_type": "stream",
          "name": "stdout",
          "text": [
            "Division by zero.\n"
          ]
        }
      ]
    },
    {
      "cell_type": "code",
      "source": [
        "content = ['Date,Open,High,Low,Close,Volume',\n",
        " '2020-03-02,305,324.5,283.5,310,64081',\n",
        " '2020-03-03,325.5,340.5,320,340.5,55496',\n",
        " '2020-03-04,324,340.5,315,330,36152',\n",
        " '2020-03-05,344,344,310,315,35992',\n",
        " '2020-03-06,306.5,307,291,305,32539',\n",
        " '2020-03-09,274,291,250,258,79402',\n",
        " '2020-03-10,278,284.5,256,264,35700',\n",
        " '2020-03-11,270,270,238.5,245,60445',\n",
        " '2020-03-12,218,228,196,197,94031',\n",
        " '2020-03-13,210,229,198.8,211,100412',\n",
        " '2020-03-16,205,248,197.8,240.5,50659',\n",
        " '2020-03-17,245,269,232.5,264,99480',\n",
        " '2020-03-18,264,280,251,270,70136',\n",
        " '2020-03-19,267,280,267,279.5,30732',\n",
        " '2020-03-20,297.5,307,280,280.5,43426',\n",
        " '2020-03-23,274,289,258,285,37098',\n",
        " '2020-03-24,305,309,296.5,309,31939',\n",
        " '2020-03-25,313,330,295,304,46724',\n",
        " '2020-03-26,300,309,295.5,300,27213',\n",
        " '2020-03-27,302,306.5,290,296,13466',\n",
        " '2020-03-30,299,300,287,300,10316',\n",
        " '2020-03-31,302.5,309,302,306.5,15698']\n",
        "\n",
        "vol = 0\n",
        "date = ''\n",
        "for id, line in enumerate(content):\n",
        "  if id > 0 and int(line.split(',')[5]) > vol:\n",
        "    vol = int(line.split(',')[5])\n",
        "    date = line.split(',')[0]\n",
        "\n",
        "print(f'Date: {date}')    "
      ],
      "metadata": {
        "colab": {
          "base_uri": "https://localhost:8080/"
        },
        "id": "kunr6stUj1zO",
        "outputId": "6bf32ca0-4118-4f89-d09f-2e8574796a68"
      },
      "execution_count": null,
      "outputs": [
        {
          "output_type": "stream",
          "name": "stdout",
          "text": [
            "Date: 2020-03-13\n"
          ]
        }
      ]
    },
    {
      "cell_type": "code",
      "source": [
        "numbers = list(range(2, 19, 2))\n",
        "#print(numbers)\n",
        "with open('num.txt', 'w') as file:\n",
        "  for num in numbers:\n",
        "    file.write(str(num) +'\\n')"
      ],
      "metadata": {
        "id": "5m2L1WVQnz1P"
      },
      "execution_count": null,
      "outputs": []
    },
    {
      "cell_type": "code",
      "source": [
        "import json\n",
        "\n",
        "stocks = {'PLW': ['Playway', 350], 'BBT': ['Boombit', 22]}\n",
        "\n",
        "json_object = json.dumps(stocks, indent = 4)\n",
        " \n",
        "with open(\"stocks.json\", \"w\") as outfile:\n",
        "    outfile.write(json_object)"
      ],
      "metadata": {
        "id": "caBsoCGQp2i3"
      },
      "execution_count": null,
      "outputs": []
    },
    {
      "cell_type": "code",
      "source": [
        "import csv\n",
        "\n",
        "headers = ['user_id', 'amount']\n",
        "users = [['001', '1400'], ['004', '1300'], ['007', '900']]\n",
        "\n",
        "with open('users.csv', mode='w') as employee_file:\n",
        "    employee_writer = csv.writer(employee_file, delimiter=',', quotechar='\"', quoting=csv.QUOTE_MINIMAL)\n",
        "\n",
        "    employee_writer.writerow(','.join(headers) + '\\n')\n",
        "    for user in users:\n",
        "      employee_writer.writerow(','.join(user) + '\\n')"
      ],
      "metadata": {
        "id": "CwqjV-n7q2BK"
      },
      "execution_count": null,
      "outputs": []
    },
    {
      "cell_type": "code",
      "source": [
        "number = 234\n",
        "n = bin(number)\n",
        "print(n.count('1'))"
      ],
      "metadata": {
        "colab": {
          "base_uri": "https://localhost:8080/"
        },
        "id": "j5KW7F1ncTv0",
        "outputId": "adcd7619-bd4b-47c9-8407-cb11d0b90896"
      },
      "execution_count": null,
      "outputs": [
        {
          "output_type": "stream",
          "name": "stdout",
          "text": [
            "5\n"
          ]
        }
      ]
    },
    {
      "cell_type": "code",
      "source": [
        "def maximum(a, b, c):\n",
        "    if a >= b and a >= c:\n",
        "        return a\n",
        "    else:\n",
        "      if b >= a and b >= c:\n",
        "        return b\n",
        "      else:\n",
        "        return c"
      ],
      "metadata": {
        "id": "DijlrY0reB7g"
      },
      "execution_count": null,
      "outputs": []
    },
    {
      "cell_type": "code",
      "source": [
        "def factorial(n):\n",
        "   if n == 1:\n",
        "       return n\n",
        "   else:\n",
        "       return n * factorial(n-1)\n",
        "\n",
        "factorial(6)  "
      ],
      "metadata": {
        "colab": {
          "base_uri": "https://localhost:8080/"
        },
        "id": "Q4lS-WlDiBb_",
        "outputId": "3370e254-a037-4b4f-8576-67afb0279cf4"
      },
      "execution_count": null,
      "outputs": [
        {
          "output_type": "execute_result",
          "data": {
            "text/plain": [
              "720"
            ]
          },
          "metadata": {},
          "execution_count": 8
        }
      ]
    },
    {
      "cell_type": "code",
      "source": [
        "def function(idx = 3, l=[]):\n",
        "    print(idx, l)\n",
        "    for i in range(idx):\n",
        "        l.append(i ** 3)\n",
        "        print(l)\n",
        "    print('result:', l, '\\n')\n",
        "    \n",
        "function(2)\n",
        "function(4)\n",
        "function(5, ['a', 'b', 'c'])\n",
        "function(6)   "
      ],
      "metadata": {
        "colab": {
          "base_uri": "https://localhost:8080/"
        },
        "id": "yg8VXFjjlFnL",
        "outputId": "a300f1ab-63dc-48b7-a780-83c0fff802fa"
      },
      "execution_count": null,
      "outputs": [
        {
          "output_type": "stream",
          "name": "stdout",
          "text": [
            "2 []\n",
            "[0]\n",
            "[0, 1]\n",
            "result: [0, 1] \n",
            "\n",
            "4 [0, 1]\n",
            "[0, 1, 0]\n",
            "[0, 1, 0, 1]\n",
            "[0, 1, 0, 1, 8]\n",
            "[0, 1, 0, 1, 8, 27]\n",
            "result: [0, 1, 0, 1, 8, 27] \n",
            "\n",
            "5 ['a', 'b', 'c']\n",
            "['a', 'b', 'c', 0]\n",
            "['a', 'b', 'c', 0, 1]\n",
            "['a', 'b', 'c', 0, 1, 8]\n",
            "['a', 'b', 'c', 0, 1, 8, 27]\n",
            "['a', 'b', 'c', 0, 1, 8, 27, 64]\n",
            "result: ['a', 'b', 'c', 0, 1, 8, 27, 64] \n",
            "\n",
            "6 [0, 1, 0, 1, 8, 27]\n",
            "[0, 1, 0, 1, 8, 27, 0]\n",
            "[0, 1, 0, 1, 8, 27, 0, 1]\n",
            "[0, 1, 0, 1, 8, 27, 0, 1, 8]\n",
            "[0, 1, 0, 1, 8, 27, 0, 1, 8, 27]\n",
            "[0, 1, 0, 1, 8, 27, 0, 1, 8, 27, 64]\n",
            "[0, 1, 0, 1, 8, 27, 0, 1, 8, 27, 64, 125]\n",
            "result: [0, 1, 0, 1, 8, 27, 0, 1, 8, 27, 64, 125] \n",
            "\n"
          ]
        }
      ]
    },
    {
      "cell_type": "code",
      "source": [
        "def function(*args, **kwargs):\n",
        "    print(args, kwargs)\n",
        "    \n",
        "function(3, 4)\n",
        "function(x=3, y=4)\n",
        "function(1, 2, x=3, y=4)    "
      ],
      "metadata": {
        "colab": {
          "base_uri": "https://localhost:8080/"
        },
        "id": "PpnXvMdLmNjg",
        "outputId": "ddeb3d95-4225-4606-bc23-2a066d91f2f1"
      },
      "execution_count": null,
      "outputs": [
        {
          "output_type": "stream",
          "name": "stdout",
          "text": [
            "(3, 4) {}\n",
            "() {'x': 3, 'y': 4}\n",
            "(1, 2) {'x': 3, 'y': 4}\n"
          ]
        }
      ]
    },
    {
      "cell_type": "code",
      "source": [
        "def f(a, L=[]):\n",
        "    L.append(a)\n",
        "    return L\n",
        "\n",
        "print(f(1))\n",
        "print(f(2))\n",
        "print(f(3))"
      ],
      "metadata": {
        "colab": {
          "base_uri": "https://localhost:8080/"
        },
        "id": "WiqlGnWFjvWQ",
        "outputId": "12187a74-cdb3-4734-9a38-bb12483c3fdb"
      },
      "execution_count": null,
      "outputs": [
        {
          "output_type": "stream",
          "name": "stdout",
          "text": [
            "[1]\n",
            "[1, 2]\n",
            "[1, 2, 3]\n"
          ]
        }
      ]
    },
    {
      "cell_type": "code",
      "source": [
        "def f(a, L = 0):\n",
        "    L += a\n",
        "    return L\n",
        "\n",
        "print(f(1))\n",
        "print(f(2))\n",
        "print(f(3))"
      ],
      "metadata": {
        "colab": {
          "base_uri": "https://localhost:8080/"
        },
        "id": "f1AkNLmEscZI",
        "outputId": "8f2a9fc2-0768-4885-8f7c-c1c96ea6ac78"
      },
      "execution_count": null,
      "outputs": [
        {
          "output_type": "stream",
          "name": "stdout",
          "text": [
            "1\n",
            "2\n",
            "3\n"
          ]
        }
      ]
    },
    {
      "cell_type": "code",
      "source": [
        "x = 10\n",
        "print(x, type(x), id(x))\n",
        "# Получим (10, int, 140727505991744)\n",
        "x = 12\n",
        "print(x, type(x), id(x))\n",
        "# Получим (12, int, 140727505991808)"
      ],
      "metadata": {
        "colab": {
          "base_uri": "https://localhost:8080/"
        },
        "id": "_slvdOyOxluu",
        "outputId": "b90c0a06-5ee2-426d-d599-89b3b0b70e21"
      },
      "execution_count": null,
      "outputs": [
        {
          "output_type": "stream",
          "name": "stdout",
          "text": [
            "10 <class 'int'> 11256352\n",
            "12 <class 'int'> 11256416\n"
          ]
        }
      ]
    },
    {
      "cell_type": "code",
      "source": [
        "x = 'Прювет!'\n",
        "print(x, type(x), id(x))\n",
        "x = 'aaaaa'\n",
        "print(x, type(x), id(x))\n",
        "x = 'Прювет!'\n",
        "print(x, type(x), id(x))"
      ],
      "metadata": {
        "colab": {
          "base_uri": "https://localhost:8080/"
        },
        "id": "Af93kIdax83a",
        "outputId": "24f3ce27-95b8-432f-828f-3068537dd37c"
      },
      "execution_count": null,
      "outputs": [
        {
          "output_type": "stream",
          "name": "stdout",
          "text": [
            "Прювет! <class 'str'> 140143383461760\n",
            "aaaaa <class 'str'> 140143486587120\n",
            "Прювет! <class 'str'> 140143383046048\n"
          ]
        }
      ]
    },
    {
      "cell_type": "code",
      "source": [
        "tuple1 = ([1, 1], 2, 3)\n",
        "list1 = [(1, 1), 2, 3]\n",
        "print(tuple1, id(tuple1))\n",
        "# (([1, 1], 2, 3), [(1, 1), 2, 3])\n",
        "tuple1[0][0] = 'Поменялся'\n",
        "print(tuple1, id(tuple1))\n",
        "# (['Поменялся', 1], 2, 3)"
      ],
      "metadata": {
        "colab": {
          "base_uri": "https://localhost:8080/"
        },
        "id": "PVuvo5Jq1gEm",
        "outputId": "bfce0270-6d31-40d8-e4e8-d819c027c952"
      },
      "execution_count": null,
      "outputs": [
        {
          "output_type": "stream",
          "name": "stdout",
          "text": [
            "([1, 1], 2, 3) 140143488052912\n",
            "(['Поменялся', 1], 2, 3) 140143488052912\n"
          ]
        }
      ]
    },
    {
      "cell_type": "code",
      "source": [
        "x = \"Holberton\"\n",
        "y = \"Holberton\"\n",
        "print(id(x))\n",
        "print(id(y))\n",
        "y = 'S'\n",
        "print(id(y))\n",
        "y = \"Holberton\"\n",
        "print(id(y))"
      ],
      "metadata": {
        "colab": {
          "base_uri": "https://localhost:8080/"
        },
        "id": "3nWmtHhw2Vfy",
        "outputId": "ee9b3676-38f5-4689-d5ec-524156d15b0f"
      },
      "execution_count": null,
      "outputs": [
        {
          "output_type": "stream",
          "name": "stdout",
          "text": [
            "140143384726000\n",
            "140143384726000\n",
            "140143818372080\n",
            "140143384726000\n"
          ]
        }
      ]
    },
    {
      "cell_type": "code",
      "source": [
        "def foo(lst = []):\n",
        "    lst.append(1)\n",
        "    return lst\n",
        "\n",
        "l = foo()\n",
        "k = foo()\n",
        "print(id(l) == id(k))\n",
        "print(l is k)"
      ],
      "metadata": {
        "colab": {
          "base_uri": "https://localhost:8080/"
        },
        "id": "9P8YI6zt33PK",
        "outputId": "22f4a3db-b4e6-4edd-a731-7446f4dca4b1"
      },
      "execution_count": null,
      "outputs": [
        {
          "output_type": "stream",
          "name": "stdout",
          "text": [
            "True\n",
            "True\n"
          ]
        }
      ]
    },
    {
      "cell_type": "code",
      "source": [
        "def foo(lst=None):\n",
        "    if lst is None:\n",
        "        lst = []\n",
        "\n",
        "    lst.append(1)\n",
        "    return lst\n",
        "\n",
        "foo()\n",
        "foo()\n",
        "lst = foo()\n",
        "print(lst)  # [1]\n",
        "\n",
        "my_list = [0]\n",
        "lst = foo(my_list)\n",
        "print(lst)  # [0, 1]"
      ],
      "metadata": {
        "colab": {
          "base_uri": "https://localhost:8080/"
        },
        "id": "fl-gyzNP5QUv",
        "outputId": "e054b642-644c-4c84-9676-4706f602f789"
      },
      "execution_count": null,
      "outputs": [
        {
          "output_type": "stream",
          "name": "stdout",
          "text": [
            "[1]\n",
            "[0, 1]\n"
          ]
        }
      ]
    }
  ]
}